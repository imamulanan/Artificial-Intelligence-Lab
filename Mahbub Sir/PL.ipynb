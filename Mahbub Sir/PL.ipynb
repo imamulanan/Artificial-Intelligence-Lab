{
 "cells": [
  {
   "cell_type": "code",
   "execution_count": 4,
   "id": "8e7b314e",
   "metadata": {},
   "outputs": [],
   "source": [
    "class Statement:\n",
    "    def __init__(self, subject, predicate, singular=True):\n",
    "        self.subject = subject\n",
    "        self.predicate = predicate\n",
    "        self.singular = singular"
   ]
  },
  {
   "cell_type": "code",
   "execution_count": 5,
   "id": "a0919d0c",
   "metadata": {},
   "outputs": [],
   "source": [
    "\n",
    "class Relation:\n",
    "    def __init__(self):\n",
    "        self.map = {}\n",
    "\n",
    "    def add(self, statement, subject, predicate, singular=True):\n",
    "        self.map[statement] = Statement(subject, predicate, singular)\n",
    "\n",
    "    def print_statement(self, statement):\n",
    "        if self.map[statement].singular:\n",
    "            print(self.map[statement].subject, \" is \", self.map[statement].predicate, end=\"\")\n",
    "        else:\n",
    "            print(self.map[statement].subject, \" are \", self.map[statement].predicate, end=\"\")\n",
    "\n",
    "    def print_neg_statement(self, statement):\n",
    "        if self.map[statement].singular:\n",
    "            print(self.map[statement].subject, \" is not \", self.map[statement].predicate, end=\"\")\n",
    "        else:\n",
    "            print(self.map[statement].subject, \" are not \", self.map[statement].predicate, end=\"\")\n",
    "\n",
    "    def build_statement(self, logic):\n",
    "        \"\"\"\n",
    "        & = AND\n",
    "        | = OR\n",
    "        ! = NOT\n",
    "        ~ = IMPLIES\n",
    "        * = IF AND ONLY IF\n",
    "\n",
    "        A = EVERY\n",
    "        E = SOME\n",
    "        \"\"\"\n",
    "        logic = logic.replace(\" \", \"\")  # no space\n",
    "        logic = logic.replace(\",\", \"\")  # no comma\n",
    "\n",
    "        neg = False\n",
    "        only_sub = False\n",
    "\n",
    "        for i in range(len(logic)):\n",
    "            if logic[i] == '!':\n",
    "                neg = True\n",
    "            elif logic[i] == '&':\n",
    "                print(\" and \", end=\"\")\n",
    "            elif logic[i] == '|':\n",
    "                print(\" or \", end=\"\")\n",
    "            elif logic[i] == '*':\n",
    "                print(\" if and only if, \", end=\"\")\n",
    "            elif logic[i] == '~':\n",
    "                print(\" implies, \", end=\"\")\n",
    "            elif logic[i] == 'A':\n",
    "                print(\" For all \", end=\"\")\n",
    "                only_sub = True\n",
    "            elif logic[i] == 'E':\n",
    "                print(\" For some \", end=\"\")\n",
    "                only_sub = True\n",
    "            elif logic[i] in ['(', ')', ',']:\n",
    "                continue\n",
    "            else:\n",
    "                if only_sub:\n",
    "                    print(self.map[logic[i]].subject, end=\", \")\n",
    "                    only_sub = False\n",
    "                elif neg:\n",
    "                    self.print_neg_statement(logic[i])\n",
    "                    neg = False\n",
    "                else:\n",
    "                    self.print_statement(logic[i])\n",
    "        print(\".\")"
   ]
  },
  {
   "cell_type": "code",
   "execution_count": 6,
   "id": "394eb03b",
   "metadata": {},
   "outputs": [
    {
     "name": "stdout",
     "output_type": "stream",
     "text": [
      " For all students, students  are  brilliant.\n",
      "Real CR  is  student and Real CR  is not  lazy implies, Real CR  is  student.\n"
     ]
    }
   ],
   "source": [
    "relation = Relation()\n",
    "\n",
    "relation.add(\"s\", \"students\", \"brilliant\", singular=False)\n",
    "relation.add(\"a\", \"Real CR\", \"student\")\n",
    "relation.add(\"b\", \"Real CR\", \"lazy\")\n",
    "\n",
    "relation.build_statement(\"A(s) s\")\n",
    "relation.build_statement(\"a & !b ~ a\")"
   ]
  },
  {
   "cell_type": "code",
   "execution_count": 7,
   "id": "bff999c9",
   "metadata": {},
   "outputs": [
    {
     "name": "stdout",
     "output_type": "stream",
     "text": [
      "--------------\n",
      "A | B | A OR B\n",
      "--------------\n",
      "1 | 1 | 1\n",
      "1 | 0 | 1\n",
      "0 | 1 | 1\n",
      "0 | 0 | 0\n",
      "--------------\n"
     ]
    }
   ],
   "source": [
    "def draw_table(li, *args):\n",
    "    length = len(\" | \".join(args))\n",
    "    print(\"-\" * length)\n",
    "    print(\" | \".join(args))\n",
    "    print(\"-\" * length)\n",
    "    for row in li:\n",
    "        print(\" | \".join(str(i) for i in row))\n",
    "        # print(\" | \".join(row))\n",
    "    print(\"-\" * length)\n",
    "\n",
    "draw_table([[\"1\", \"1\", \"1\"], \n",
    "            [\"1\", \"0\", \"1\"], \n",
    "            [\"0\", \"1\", \"1\"], \n",
    "            [\"0\", \"0\", \"0\"]], \"A\", \"B\", \"A OR B\")"
   ]
  },
  {
   "cell_type": "code",
   "execution_count": 8,
   "id": "60be605f",
   "metadata": {},
   "outputs": [],
   "source": [
    "def evaluate_expression(a, b, ex):\n",
    "    \"\"\"\n",
    "    & = AND\n",
    "    | = OR\n",
    "    ! = NOT\n",
    "    ~ = IMPLIES\n",
    "    * = IF AND ONLY IF\n",
    "    \"\"\"\n",
    "    if (ex == '!'):\n",
    "        return 0 if a == 1 else 1\n",
    "    elif (ex == '&'):\n",
    "        return 1 if a == 1 and b == 1 else 0\n",
    "    elif (ex == '|'):\n",
    "        return 1 if a == 1 or b == 1 else 0\n",
    "    elif (ex == '~'):\n",
    "        return 0 if a == 1 and b == 0 else 1\n",
    "    elif (ex == '*'):\n",
    "        return 1 if (a == 1 and b == 1) or (a == 0 and b == 0) else 0"
   ]
  },
  {
   "cell_type": "code",
   "execution_count": 9,
   "id": "13c63e75",
   "metadata": {},
   "outputs": [
    {
     "name": "stdout",
     "output_type": "stream",
     "text": [
      "---------------\n",
      "A | B | Only IF\n",
      "---------------\n",
      "0 | 0 | 1\n",
      "0 | 1 | 0\n",
      "1 | 0 | 0\n",
      "1 | 1 | 1\n",
      "---------------\n"
     ]
    }
   ],
   "source": [
    "N = 2 # Number of variables\n",
    "arr = [list(map(int, bin(i)[2:].zfill(N))) for i in range(2**N)]\n",
    "\n",
    "for i in arr:\n",
    "    i.append(int(str(evaluate_expression(i[0], i[1], '*'))))\n",
    "draw_table(arr, \"A\", \"B\", \"Only IF\")"
   ]
  },
  {
   "cell_type": "code",
   "execution_count": 10,
   "id": "ca3d6f8a",
   "metadata": {},
   "outputs": [],
   "source": [
    "from collections import deque\n",
    "\n",
    "class Relation(Relation):\n",
    "    def __init__(self):\n",
    "        super().__init__()\n",
    "        self.operand_val = {}\n",
    "\n",
    "    def map_operands(self, op, val):\n",
    "        self.operand_val[op] = val\n",
    "\n",
    "    def evalutate_expression(self, exp):\n",
    "        \"\"\"\n",
    "        & = AND\n",
    "        | = OR\n",
    "        ! = NOT\n",
    "        ~ = IMPLIES\n",
    "        * = IF AND ONLY IF\n",
    "        \"\"\"\n",
    "        exp = exp.replace(\" \", \"\")  # no space\n",
    "        exp = exp.replace(\",\", \"\")  # no comma\n",
    "\n",
    "        operators = deque()\n",
    "        operands = deque()\n",
    "\n",
    "        negative = False\n",
    "        for i in exp:\n",
    "            if i in ['&', '|', '~', '*']:\n",
    "                operators.append(i)\n",
    "            elif i == '!':\n",
    "                negative = True\n",
    "            else:\n",
    "                if negative:\n",
    "                    operands.append(evaluate_expression(self.operand_val[i], 0, '!'))\n",
    "                    negative = False\n",
    "                else:\n",
    "                    operands.append(i)\n",
    "        \n",
    "        operands = deque(self.operand_val[i] if (i != 0 and i != 1) else i for i in operands )\n",
    "        while operators:\n",
    "            op = operators.popleft()\n",
    "            a = operands.popleft()\n",
    "            b = operands.popleft()\n",
    "            \n",
    "            operands.appendleft(evaluate_expression(a, b, op))\n",
    "        \n",
    "        return operands.popleft()"
   ]
  },
  {
   "cell_type": "code",
   "execution_count": 11,
   "id": "c1fb2040",
   "metadata": {},
   "outputs": [
    {
     "name": "stdout",
     "output_type": "stream",
     "text": [
      "1\n"
     ]
    }
   ],
   "source": [
    "relation = Relation()\n",
    "\n",
    "relation.add(\"a\", \"sensei\", \"student\")\n",
    "relation.add(\"b\", \"sensei\", \"brilliant\")\n",
    "\n",
    "relation.map_operands(\"a\", 1)\n",
    "relation.map_operands(\"b\", 0)\n",
    "\n",
    "print(relation.evalutate_expression(\"a | b & !a ~ b\"))"
   ]
  }
 ],
 "metadata": {
  "kernelspec": {
   "display_name": "Python 3",
   "language": "python",
   "name": "python3"
  },
  "language_info": {
   "codemirror_mode": {
    "name": "ipython",
    "version": 3
   },
   "file_extension": ".py",
   "mimetype": "text/x-python",
   "name": "python",
   "nbconvert_exporter": "python",
   "pygments_lexer": "ipython3",
   "version": "3.13.5"
  }
 },
 "nbformat": 4,
 "nbformat_minor": 5
}
